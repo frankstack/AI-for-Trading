{
 "cells": [
  {
   "cell_type": "markdown",
   "metadata": {},
   "source": [
    "# Text Processing\n",
    "\n",
    "## Capturing Text Data\n",
    "\n",
    "### Plain Text"
   ]
  },
  {
   "cell_type": "code",
   "execution_count": 1,
   "metadata": {},
   "outputs": [
    {
     "name": "stdout",
     "output_type": "stream",
     "text": [
      "Hieroglyphic writing dates from c. 3000 BC, and is composed of hundreds of symbols. A hieroglyph can represent a word, a sound, or a silent determinative; and the same symbol can serve different purposes in different contexts. Hieroglyphs were a formal script, used on stone monuments and in tombs, that could be as detailed as individual works of art.\n",
      "\n"
     ]
    }
   ],
   "source": [
    "import os\n",
    "\n",
    "# Read in a plain text file\n",
    "with open(os.path.join(\"data\", \"hieroglyph.txt\"), \"r\") as f:\n",
    "    text = f.read()\n",
    "    print(text)"
   ]
  },
  {
   "cell_type": "markdown",
   "metadata": {},
   "source": [
    "### Tabular Data"
   ]
  },
  {
   "cell_type": "code",
   "execution_count": 2,
   "metadata": {
    "scrolled": true
   },
   "outputs": [
    {
     "data": {
      "text/html": [
       "<div>\n",
       "<style scoped>\n",
       "    .dataframe tbody tr th:only-of-type {\n",
       "        vertical-align: middle;\n",
       "    }\n",
       "\n",
       "    .dataframe tbody tr th {\n",
       "        vertical-align: top;\n",
       "    }\n",
       "\n",
       "    .dataframe thead th {\n",
       "        text-align: right;\n",
       "    }\n",
       "</style>\n",
       "<table border=\"1\" class=\"dataframe\">\n",
       "  <thead>\n",
       "    <tr style=\"text-align: right;\">\n",
       "      <th></th>\n",
       "      <th>publisher</th>\n",
       "      <th>title</th>\n",
       "    </tr>\n",
       "  </thead>\n",
       "  <tbody>\n",
       "    <tr>\n",
       "      <th>0</th>\n",
       "      <td>Livemint</td>\n",
       "      <td>fed's charles plosser sees high bar for change...</td>\n",
       "    </tr>\n",
       "    <tr>\n",
       "      <th>1</th>\n",
       "      <td>IFA Magazine</td>\n",
       "      <td>us open: stocks fall after fed official hints ...</td>\n",
       "    </tr>\n",
       "    <tr>\n",
       "      <th>2</th>\n",
       "      <td>IFA Magazine</td>\n",
       "      <td>fed risks falling 'behind the curve', charles ...</td>\n",
       "    </tr>\n",
       "    <tr>\n",
       "      <th>3</th>\n",
       "      <td>Moneynews</td>\n",
       "      <td>fed's plosser: nasty weather has curbed job gr...</td>\n",
       "    </tr>\n",
       "    <tr>\n",
       "      <th>4</th>\n",
       "      <td>NASDAQ</td>\n",
       "      <td>plosser: fed may have to accelerate tapering pace</td>\n",
       "    </tr>\n",
       "  </tbody>\n",
       "</table>\n",
       "</div>"
      ],
      "text/plain": [
       "      publisher                                              title\n",
       "0      Livemint  fed's charles plosser sees high bar for change...\n",
       "1  IFA Magazine  us open: stocks fall after fed official hints ...\n",
       "2  IFA Magazine  fed risks falling 'behind the curve', charles ...\n",
       "3     Moneynews  fed's plosser: nasty weather has curbed job gr...\n",
       "4        NASDAQ  plosser: fed may have to accelerate tapering pace"
      ]
     },
     "execution_count": 2,
     "metadata": {},
     "output_type": "execute_result"
    }
   ],
   "source": [
    "import pandas as pd\n",
    "\n",
    "# Extract text column from a dataframe\n",
    "df = pd.read_csv(os.path.join(\"data\", \"news.csv\"))\n",
    "df.head()[['publisher', 'title']]\n",
    "\n",
    "# Convert text column to lowercase\n",
    "df['title'] = df['title'].str.lower()\n",
    "df.head()[['publisher', 'title']]"
   ]
  },
  {
   "cell_type": "markdown",
   "metadata": {},
   "source": [
    "### Online Resource"
   ]
  },
  {
   "cell_type": "code",
   "execution_count": 3,
   "metadata": {
    "scrolled": true
   },
   "outputs": [
    {
     "name": "stdout",
     "output_type": "stream",
     "text": [
      "{\n",
      "    \"success\": {\n",
      "        \"total\": 1\n",
      "    },\n",
      "    \"contents\": {\n",
      "        \"quotes\": [\n",
      "            {\n",
      "                \"quote\": \"Do the best you can until you know better. Then when you know better, do better.\",\n",
      "                \"length\": \"80\",\n",
      "                \"author\": \"Maya Angelou\",\n",
      "                \"tags\": {\n",
      "                    \"0\": \"inspire\",\n",
      "                    \"2\": \"wisdom\"\n",
      "                },\n",
      "                \"category\": \"inspire\",\n",
      "                \"language\": \"en\",\n",
      "                \"date\": \"2020-03-24\",\n",
      "                \"permalink\": \"https://theysaidso.com/quote/maya-angelou-do-the-best-you-can-until-you-know-better-then-when-you-know-better\",\n",
      "                \"id\": \"B27anrMZFJFeMsJyTvRkrweF\",\n",
      "                \"background\": \"https://theysaidso.com/img/qod/qod-inspire.jpg\",\n",
      "                \"title\": \"Inspiring Quote of the day\"\n",
      "            }\n",
      "        ]\n",
      "    },\n",
      "    \"baseurl\": \"https://theysaidso.com\",\n",
      "    \"copyright\": {\n",
      "        \"year\": 2022,\n",
      "        \"url\": \"https://theysaidso.com\"\n",
      "    }\n",
      "}\n",
      "Do the best you can until you know better. Then when you know better, do better. \n",
      "-- Maya Angelou\n"
     ]
    }
   ],
   "source": [
    "import requests\n",
    "import json\n",
    "\n",
    "# Fetch data from a REST API\n",
    "r = requests.get(\n",
    "    \"https://quotes.rest/qod.json\")\n",
    "res = r.json()\n",
    "print(json.dumps(res, indent=4))\n",
    "\n",
    "# Extract relevant object and field\n",
    "q = res[\"contents\"][\"quotes\"][0]\n",
    "print(q[\"quote\"], \"\\n--\", q[\"author\"])"
   ]
  },
  {
   "cell_type": "markdown",
   "metadata": {},
   "source": [
    "## Cleaning"
   ]
  },
  {
   "cell_type": "code",
   "execution_count": 4,
   "metadata": {
    "scrolled": true
   },
   "outputs": [
    {
     "name": "stdout",
     "output_type": "stream",
     "text": [
      "<html op=\"news\"><head><meta name=\"referrer\" content=\"origin\"><meta name=\"viewport\" content=\"width=device-width, initial-scale=1.0\"><link rel=\"stylesheet\" type=\"text/css\" href=\"news.css?aFHNeAZxwR2iyTLJ4yw2\">\n",
      "        <link rel=\"shortcut icon\" href=\"favicon.ico\">\n",
      "          <link rel=\"alternate\" type=\"application/rss+xml\" title=\"RSS\" href=\"rss\">\n",
      "        <title>Hacker News</title></head><body><center><table id=\"hnmain\" border=\"0\" cellpadding=\"0\" cellspacing=\"0\" width=\"85%\" bgcolor=\"#f6f6ef\">\n",
      "        <tr><td bgcolor=\"#ff6600\"><table border=\"0\" cellpadding=\"0\" cellspacing=\"0\" width=\"100%\" style=\"padding:2px\"><tr><td style=\"width:18px;padding-right:4px\"><a href=\"https://news.ycombinator.com\"><img src=\"y18.gif\" width=\"18\" height=\"18\" style=\"border:1px white solid;\"></a></td>\n",
      "                  <td style=\"line-height:12pt; height:10px;\"><span class=\"pagetop\"><b class=\"hnname\"><a href=\"news\">Hacker News</a></b>\n",
      "              <a href=\"newest\">new</a> | <a href=\"front\">past</a> | <a href=\"newcomments\">comments</a> | <a href=\"ask\">ask</a> | <a href=\"show\">show</a> | <a href=\"jobs\">jobs</a> | <a href=\"submit\">submit</a>            </span></td><td style=\"text-align:right;padding-right:4px;\"><span class=\"pagetop\">\n",
      "                              <a href=\"login?goto=news\">login</a>\n",
      "                          </span></td>\n",
      "              </tr></table></td></tr>\n",
      "<tr id=\"pagespace\" title=\"\" style=\"height:10px\"></tr><tr><td><table border=\"0\" cellpadding=\"0\" cellspacing=\"0\" class=\"itemlist\">\n",
      "              <tr class='athing' id='22674342'>\n",
      "      <td align=\"right\" valign=\"top\" class=\"title\"><span class=\"rank\">1.</span></td>      <td valign=\"top\" class=\"votelinks\"><center><a id='up_22674342' href='vote?id=22674342&amp;how=up&amp;goto=news'><div class='votearrow' title='upvote'></div></a></center></td><td class=\"title\"><a href=\"https://www.atlasobscura.com/articles/moose-boulder-debunked\" class=\"storylink\">An Intrepid Mother and Son Who Unraveled a Geographic Hoax</a><span class=\"sitebit comhead\"> (<a href=\"from?site=atlasobscura.com\"><span class=\"sitestr\">atlasobscura.com</span></a>)</span></td></tr><tr><td colspan=\"2\"></td><td class=\"subtext\">\n",
      "        <span class=\"score\" id=\"score_22674342\">154 points</span> by <a href=\"user?id=bryanrasmussen\" class=\"hnuser\">bryanrasmussen</a> <span class=\"age\"><a href=\"item?id=22674342\">3 hours ago</a></span> <span id=\"unv_22674342\"></span> | <a href=\"hide?id=22674342&amp;goto=news\">hide</a> | <a href=\"item?id=22674342\">21&nbsp;comments</a>              </td></tr>\n",
      "      <tr class=\"spacer\" style=\"height:5px\"></tr>\n",
      "                <tr class='athing' id='22675097'>\n",
      "      <td align=\"right\" valign=\"top\" class=\"title\"><span class=\"rank\">2.</span></td>      <td valign=\"top\" class=\"votelinks\"><center><a id='up_22675097' href='vote?id=22675097&amp;how=up&amp;goto=news'><div class='votearrow' title='upvote'></div></a></center></td><td class=\"title\"><a href=\"https://www.axios.com/india-coronavirus-lockdown-fd753cb9-efbd-45b0-9008-16d51272c961.html\" class=\"storylink\">India announces nationwide lockdown to stop spread of coronavirus</a><span class=\"sitebit comhead\"> (<a href=\"from?site=axios.com\"><span class=\"sitestr\">axios.com</span></a>)</span></td></tr><tr><td colspan=\"2\"></td><td class=\"subtext\">\n",
      "        <span class=\"score\" id=\"score_22675097\">130 points</span> by <a href=\"user?id=JumpCrisscross\" class=\"hnuser\">JumpCrisscross</a> <span class=\"age\"><a href=\"item?id=22675097\">1 hour ago</a></span> <span id=\"unv_22675097\"></span> | <a href=\"hide?id=22675097&amp;goto=news\">hide</a> | <a href=\"item?id=22675097\">77&nbsp;comments</a>              </td></tr>\n",
      "      <tr class=\"spacer\" style=\"height:5px\"></tr>\n",
      "                <tr class='athing' id='22662449'>\n",
      "      <td align=\"right\" valign=\"top\" class=\"title\"><span class=\"rank\">3.</span></td>      <td valign=\"top\" class=\"votelinks\"><center><a id='up_22662449' href='vote?id=22662449&amp;how=up&amp;goto=news'><div class='votearrow' title='upvote'></div></a></center></td><td class=\"title\"><a href=\"https://www.cbc.ca/news/technology/animal-breathe-oxygen-1.5478645\" class=\"storylink\">Scientists discover first animal that doesn't breathe oxygen</a><span class=\"sitebit comhead\"> (<a href=\"from?site=cbc.ca\"><span class=\"sitestr\">cbc.ca</span></a>)</span></td></tr><tr><td colspan=\"2\"></td><td class=\"subtext\">\n",
      "        <span class=\"score\" id=\"score_22662449\">108 points</span> by <a href=\"user?id=ksec\" class=\"hnuser\">ksec</a> <span class=\"age\"><a href=\"item?id=22662449\">4 hours ago</a></span> <span id=\"unv_22662449\"></span> | <a href=\"hide?id=22662449&amp;goto=news\">hide</a> | <a href=\"item?id=22662449\">14&nbsp;comments</a>              </td></tr>\n",
      "      <tr class=\"spacer\" style=\"height:5px\"></tr>\n",
      "                <tr class='athing' id='22663023'>\n",
      "      <td align=\"right\" valign=\"top\" class=\"title\"><span class=\"rank\">4.</span></td>      <td valign=\"top\" class=\"votelinks\"><center><a id='up_22663023' href='vote?id=22663023&amp;how=up&amp;goto=news'><div class='votearrow' title='upvote'></div></a></center></td><td class=\"title\"><a href=\"https://www.mandarinmansion.com/article/jianruiying-introduction\" class=\"storylink\">Jianruiying, the Special Forces of the Qing Dynasty: An Introduction</a><span class=\"sitebit comhead\"> (<a href=\"from?site=mandarinmansion.com\"><span class=\"sitestr\">mandarinmansion.com</span></a>)</span></td></tr><tr><td colspan=\"2\"></td><td class=\"subtext\">\n",
      "        <span class=\"score\" id=\"score_22663023\">21 points</span> by <a href=\"user?id=vanderburgt\" class=\"hnuser\">vanderburgt</a> <span class=\"age\"><a href=\"item?id=22663023\">1 hour ago</a></span> <span id=\"unv_22663023\"></span> | <a href=\"hide?id=22663023&amp;goto=news\">hide</a> | <a href=\"item?id=22663023\">discuss</a>              </td></tr>\n",
      "      <tr class=\"spacer\" style=\"height:5px\"></tr>\n",
      "                <tr class='athing' id='22675136'>\n",
      "      <td align=\"right\" valign=\"top\" class=\"title\"><span class=\"rank\">5.</span></td>      <td valign=\"top\" class=\"votelinks\"><center><a id='up_22675136' href='vote?id=22675136&amp;how=up&amp;goto=news'><div class='votearrow' title='upvote'></div></a></center></td><td class=\"title\"><a href=\"https://krebsonsecurity.com/2020/03/whos-behind-the-web-listings-mail-scam/\" class=\"storylink\">Who’s Behind the ‘Web Listings’ Mail Scam? – KrebsOnSecurity</a><span class=\"sitebit comhead\"> (<a href=\"from?site=krebsonsecurity.com\"><span class=\"sitestr\">krebsonsecurity.com</span></a>)</span></td></tr><tr><td colspan=\"2\"></td><td class=\"subtext\">\n",
      "        <span class=\"score\" id=\"score_22675136\">20 points</span> by <a href=\"user?id=raybb\" class=\"hnuser\">raybb</a> <span class=\"age\"><a href=\"item?id=22675136\">1 hour ago</a></span> <span id=\"unv_22675136\"></span> | <a href=\"hide?id=22675136&amp;goto=news\">hide</a> | <a href=\"item?id=22675136\">5&nbsp;comments</a>              </td></tr>\n",
      "      <tr class=\"spacer\" style=\"height:5px\"></tr>\n",
      "                <tr class='athing' id='22669084'>\n",
      "      <td align=\"right\" valign=\"top\" class=\"title\"><span class=\"rank\">6.</span></td>      <td valign=\"top\" class=\"votelinks\"><center><a id='up_22669084' href='vote?id=22669084&amp;how=up&amp;goto=news'><div class='votearrow' title='upvote'></div></a></center></td><td class=\"title\"><a href=\"https://github.com/webartifex/intro-to-python\" class=\"storylink\">Show HN: Intro to Python and Programming for non-CS majors</a><span class=\"sitebit comhead\"> (<a href=\"from?site=github.com\"><span class=\"sitestr\">github.com</span></a>)</span></td></tr><tr><td colspan=\"2\"></td><td class=\"subtext\">\n",
      "        <span class=\"score\" id=\"score_22669084\">100 points</span> by <a href=\"user?id=webartifex\" class=\"hnuser\">webartifex</a> <span class=\"age\"><a href=\"item?id=22669084\">5 hours ago</a></span> <span id=\"unv_22669084\"></span> | <a href=\"hide?id=22669084&amp;goto=news\">hide</a> | <a href=\"item?id=22669084\">33&nbsp;comments</a>              </td></tr>\n",
      "      <tr class=\"spacer\" style=\"height:5px\"></tr>\n",
      "                <tr class='athing' id='22675465'>\n",
      "      <td align=\"right\" valign=\"top\" class=\"title\"><span class=\"rank\">7.</span></td>      <td valign=\"top\" class=\"votelinks\"><center><a id='up_22675465' href='vote?id=22675465&amp;how=up&amp;goto=news'><div class='votearrow' title='upvote'></div></a></center></td><td class=\"title\"><a href=\"https://www.astronomie.nl/physics-laws-cannot-always-turn-back-time-77\" class=\"storylink\" rel=\"nofollow\">Physics laws cannot always turn back time</a><span class=\"sitebit comhead\"> (<a href=\"from?site=astronomie.nl\"><span class=\"sitestr\">astronomie.nl</span></a>)</span></td></tr><tr><td colspan=\"2\"></td><td class=\"subtext\">\n",
      "        <span class=\"score\" id=\"score_22675465\">8 points</span> by <a href=\"user?id=vo2maxer\" class=\"hnuser\">vo2maxer</a> <span class=\"age\"><a href=\"item?id=22675465\">39 minutes ago</a></span> <span id=\"unv_22675465\"></span> | <a href=\"hide?id=22675465&amp;goto=news\">hide</a> | <a href=\"item?id=22675465\">3&nbsp;comments</a>              </td></tr>\n",
      "      <tr class=\"spacer\" style=\"height:5px\"></tr>\n",
      "                <tr class='athing' id='22672491'>\n",
      "      <td align=\"right\" valign=\"top\" class=\"title\"><span class=\"rank\">8.</span></td>      <td valign=\"top\" class=\"votelinks\"><center><a id='up_22672491' href='vote?id=22672491&amp;how=up&amp;goto=news'><div class='votearrow' title='upvote'></div></a></center></td><td class=\"title\"><a href=\"https://www.micah.soy/posts/setting-up-git-identities/\" class=\"storylink\">Setting up Git identities</a><span class=\"sitebit comhead\"> (<a href=\"from?site=micah.soy\"><span class=\"sitestr\">micah.soy</span></a>)</span></td></tr><tr><td colspan=\"2\"></td><td class=\"subtext\">\n",
      "        <span class=\"score\" id=\"score_22672491\">259 points</span> by <a href=\"user?id=micahhenning\" class=\"hnuser\">micahhenning</a> <span class=\"age\"><a href=\"item?id=22672491\">9 hours ago</a></span> <span id=\"unv_22672491\"></span> | <a href=\"hide?id=22672491&amp;goto=news\">hide</a> | <a href=\"item?id=22672491\">46&nbsp;comments</a>              </td></tr>\n",
      "      <tr class=\"spacer\" style=\"height:5px\"></tr>\n",
      "                <tr class='athing' id='22674781'>\n",
      "      <td align=\"right\" valign=\"top\" class=\"title\"><span class=\"rank\">9.</span></td>      <td valign=\"top\" class=\"votelinks\"><center><a id='up_22674781' href='vote?id=22674781&amp;how=up&amp;goto=news'><div class='votearrow' title='upvote'></div></a></center></td><td class=\"title\"><a href=\"https://www.straitstimes.com/sport/olympics-japan-will-hold-olympics-by-summer-2021-at-latest-pm-shinzo-abe-says\" class=\"storylink\">Olympics: Japan PM Shinzo Abe, IOC agree to delay Tokyo Olympics by one year</a><span class=\"sitebit comhead\"> (<a href=\"from?site=straitstimes.com\"><span class=\"sitestr\">straitstimes.com</span></a>)</span></td></tr><tr><td colspan=\"2\"></td><td class=\"subtext\">\n",
      "        <span class=\"score\" id=\"score_22674781\">98 points</span> by <a href=\"user?id=doppp\" class=\"hnuser\">doppp</a> <span class=\"age\"><a href=\"item?id=22674781\">2 hours ago</a></span> <span id=\"unv_22674781\"></span> | <a href=\"hide?id=22674781&amp;goto=news\">hide</a> | <a href=\"item?id=22674781\">56&nbsp;comments</a>              </td></tr>\n",
      "      <tr class=\"spacer\" style=\"height:5px\"></tr>\n",
      "                <tr class='athing' id='22673933'>\n",
      "      <td align=\"right\" valign=\"top\" class=\"title\"><span class=\"rank\">10.</span></td>      <td valign=\"top\" class=\"votelinks\"><center><a id='up_22673933' href='vote?id=22673933&amp;how=up&amp;goto=news'><div class='votearrow' title='upvote'></div></a></center></td><td class=\"title\"><a href=\"https://www.nytimes.com/2020/03/24/science/viruses-coranavirus-biology.html\" class=\"storylink\">Welcome to the Virosphere</a><span class=\"sitebit comhead\"> (<a href=\"from?site=nytimes.com\"><span class=\"sitestr\">nytimes.com</span></a>)</span></td></tr><tr><td colspan=\"2\"></td><td class=\"subtext\">\n",
      "        <span class=\"score\" id=\"score_22673933\">78 points</span> by <a href=\"user?id=vo2maxer\" class=\"hnuser\">vo2maxer</a> <span class=\"age\"><a href=\"item?id=22673933\">4 hours ago</a></span> <span id=\"unv_22673933\"></span> | <a href=\"hide?id=22673933&amp;goto=news\">hide</a> | <a href=\"item?id=22673933\">31&nbsp;comments</a>              </td></tr>\n",
      "      <tr class=\"spacer\" style=\"height:5px\"></tr>\n",
      "                <tr class='athing' id='22675165'>\n",
      "      <td align=\"right\" valign=\"top\" class=\"title\"><span class=\"rank\">11.</span></td>      <td valign=\"top\" class=\"votelinks\"><center><a id='up_22675165' href='vote?id=22675165&amp;how=up&amp;goto=news'><div class='votearrow' title='upvote'></div></a></center></td><td class=\"title\"><a href=\"https://buttondown.email/hillelwayne/archive/please-dont-write-your-documentation-in-markdown/\" class=\"storylink\">Please don't write your documentation in Markdown</a><span class=\"sitebit comhead\"> (<a href=\"from?site=buttondown.email\"><span class=\"sitestr\">buttondown.email</span></a>)</span></td></tr><tr><td colspan=\"2\"></td><td class=\"subtext\">\n",
      "        <span class=\"score\" id=\"score_22675165\">68 points</span> by <a href=\"user?id=randyzwitch\" class=\"hnuser\">randyzwitch</a> <span class=\"age\"><a href=\"item?id=22675165\">1 hour ago</a></span> <span id=\"unv_22675165\"></span> | <a href=\"hide?id=22675165&amp;goto=news\">hide</a> | <a href=\"item?id=22675165\">61&nbsp;comments</a>              </td></tr>\n",
      "      <tr class=\"spacer\" style=\"height:5px\"></tr>\n",
      "                <tr class='athing' id='22673942'>\n",
      "      <td align=\"right\" valign=\"top\" class=\"title\"><span class=\"rank\">12.</span></td>      <td valign=\"top\" class=\"votelinks\"><center><a id='up_22673942' href='vote?id=22673942&amp;how=up&amp;goto=news'><div class='votearrow' title='upvote'></div></a></center></td><td class=\"title\"><a href=\"https://blog.jonblankenship.com/2019/10/04/using-the-specification-pattern-to-build-a-data-driven-rules-engine/\" class=\"storylink\">Using the Specification Pattern to Build a Data-Driven Rules Engine</a><span class=\"sitebit comhead\"> (<a href=\"from?site=jonblankenship.com\"><span class=\"sitestr\">jonblankenship.com</span></a>)</span></td></tr><tr><td colspan=\"2\"></td><td class=\"subtext\">\n",
      "        <span class=\"score\" id=\"score_22673942\">48 points</span> by <a href=\"user?id=jonblankenship\" class=\"hnuser\">jonblankenship</a> <span class=\"age\"><a href=\"item?id=22673942\">4 hours ago</a></span> <span id=\"unv_22673942\"></span> | <a href=\"hide?id=22673942&amp;goto=news\">hide</a> | <a href=\"item?id=22673942\">10&nbsp;comments</a>              </td></tr>\n",
      "      <tr class=\"spacer\" style=\"height:5px\"></tr>\n",
      "                <tr class='athing' id='22675516'>\n",
      "      <td align=\"right\" valign=\"top\" class=\"title\"><span class=\"rank\">13.</span></td>      <td valign=\"top\" class=\"votelinks\"><center><a id='up_22675516' href='vote?id=22675516&amp;how=up&amp;goto=news'><div class='votearrow' title='upvote'></div></a></center></td><td class=\"title\"><a href=\"https://www.ted.com/talks/bill_gates_the_next_outbreak_we_re_not_ready\" class=\"storylink\">The next outbreak? We're not ready. Ted talk by Bill Gates (2015)</a><span class=\"sitebit comhead\"> (<a href=\"from?site=ted.com\"><span class=\"sitestr\">ted.com</span></a>)</span></td></tr><tr><td colspan=\"2\"></td><td class=\"subtext\">\n",
      "        <span class=\"score\" id=\"score_22675516\">20 points</span> by <a href=\"user?id=axelfontaine\" class=\"hnuser\">axelfontaine</a> <span class=\"age\"><a href=\"item?id=22675516\">34 minutes ago</a></span> <span id=\"unv_22675516\"></span> | <a href=\"hide?id=22675516&amp;goto=news\">hide</a> | <a href=\"item?id=22675516\">5&nbsp;comments</a>              </td></tr>\n",
      "      <tr class=\"spacer\" style=\"height:5px\"></tr>\n",
      "                <tr class='athing' id='22673440'>\n",
      "      <td align=\"right\" valign=\"top\" class=\"title\"><span class=\"rank\">14.</span></td>      <td valign=\"top\" class=\"votelinks\"><center><a id='up_22673440' href='vote?id=22673440&amp;how=up&amp;goto=news'><div class='votearrow' title='upvote'></div></a></center></td><td class=\"title\"><a href=\"https://www.youtube.com/watch?v=47bNpIbCaL8&amp;t=1214\" class=\"storylink\">Jon Rubinstein on the development of the iPod [video]</a><span class=\"sitebit comhead\"> (<a href=\"from?site=youtube.com\"><span class=\"sitestr\">youtube.com</span></a>)</span></td></tr><tr><td colspan=\"2\"></td><td class=\"subtext\">\n",
      "        <span class=\"score\" id=\"score_22673440\">29 points</span> by <a href=\"user?id=Austin_Conlon\" class=\"hnuser\">Austin_Conlon</a> <span class=\"age\"><a href=\"item?id=22673440\">4 hours ago</a></span> <span id=\"unv_22673440\"></span> | <a href=\"hide?id=22673440&amp;goto=news\">hide</a> | <a href=\"item?id=22673440\">29&nbsp;comments</a>              </td></tr>\n",
      "      <tr class=\"spacer\" style=\"height:5px\"></tr>\n",
      "                <tr class='athing' id='22672242'>\n",
      "      <td align=\"right\" valign=\"top\" class=\"title\"><span class=\"rank\">15.</span></td>      <td valign=\"top\" class=\"votelinks\"><center><a id='up_22672242' href='vote?id=22672242&amp;how=up&amp;goto=news'><div class='votearrow' title='upvote'></div></a></center></td><td class=\"title\"><a href=\"https://blog.documentnode.io/when-markdown-meets-tables\" class=\"storylink\">Show HN: Excel-like table editing for Markdown</a><span class=\"sitebit comhead\"> (<a href=\"from?site=documentnode.io\"><span class=\"sitestr\">documentnode.io</span></a>)</span></td></tr><tr><td colspan=\"2\"></td><td class=\"subtext\">\n",
      "        <span class=\"score\" id=\"score_22672242\">211 points</span> by <a href=\"user?id=jakew\" class=\"hnuser\">jakew</a> <span class=\"age\"><a href=\"item?id=22672242\">10 hours ago</a></span> <span id=\"unv_22672242\"></span> | <a href=\"hide?id=22672242&amp;goto=news\">hide</a> | <a href=\"item?id=22672242\">72&nbsp;comments</a>              </td></tr>\n",
      "      <tr class=\"spacer\" style=\"height:5px\"></tr>\n",
      "                <tr class='athing' id='22674574'>\n",
      "      <td align=\"right\" valign=\"top\" class=\"title\"><span class=\"rank\">16.</span></td>      <td valign=\"top\" class=\"votelinks\"><center><a id='up_22674574' href='vote?id=22674574&amp;how=up&amp;goto=news'><div class='votearrow' title='upvote'></div></a></center></td><td class=\"title\"><a href=\"https://stratechery.com/2020/compaq-and-coronavirus/\" class=\"storylink\">Compaq and Coronavirus</a><span class=\"sitebit comhead\"> (<a href=\"from?site=stratechery.com\"><span class=\"sitestr\">stratechery.com</span></a>)</span></td></tr><tr><td colspan=\"2\"></td><td class=\"subtext\">\n",
      "        <span class=\"score\" id=\"score_22674574\">50 points</span> by <a href=\"user?id=ingve\" class=\"hnuser\">ingve</a> <span class=\"age\"><a href=\"item?id=22674574\">3 hours ago</a></span> <span id=\"unv_22674574\"></span> | <a href=\"hide?id=22674574&amp;goto=news\">hide</a> | <a href=\"item?id=22674574\">8&nbsp;comments</a>              </td></tr>\n",
      "      <tr class=\"spacer\" style=\"height:5px\"></tr>\n",
      "                <tr class='athing' id='22672128'>\n",
      "      <td align=\"right\" valign=\"top\" class=\"title\"><span class=\"rank\">17.</span></td>      <td valign=\"top\" class=\"votelinks\"><center><a id='up_22672128' href='vote?id=22672128&amp;how=up&amp;goto=news'><div class='votearrow' title='upvote'></div></a></center></td><td class=\"title\"><a href=\"https://begriffs.com/posts/2020-03-23-concurrent-programming.html?hn=1\" class=\"storylink\">Concurrent Programming, with Examples</a><span class=\"sitebit comhead\"> (<a href=\"from?site=begriffs.com\"><span class=\"sitestr\">begriffs.com</span></a>)</span></td></tr><tr><td colspan=\"2\"></td><td class=\"subtext\">\n",
      "        <span class=\"score\" id=\"score_22672128\">230 points</span> by <a href=\"user?id=begriffs\" class=\"hnuser\">begriffs</a> <span class=\"age\"><a href=\"item?id=22672128\">11 hours ago</a></span> <span id=\"unv_22672128\"></span> | <a href=\"hide?id=22672128&amp;goto=news\">hide</a> | <a href=\"item?id=22672128\">54&nbsp;comments</a>              </td></tr>\n",
      "      <tr class=\"spacer\" style=\"height:5px\"></tr>\n",
      "                <tr class='athing' id='22665398'>\n",
      "      <td align=\"right\" valign=\"top\" class=\"title\"><span class=\"rank\">18.</span></td>      <td valign=\"top\" class=\"votelinks\"><center><a id='up_22665398' href='vote?id=22665398&amp;how=up&amp;goto=news'><div class='votearrow' title='upvote'></div></a></center></td><td class=\"title\"><a href=\"item?id=22665398\" class=\"storylink\">Ask HN: Who is hiring right now?</a></td></tr><tr><td colspan=\"2\"></td><td class=\"subtext\">\n",
      "        <span class=\"score\" id=\"score_22665398\">877 points</span> by <a href=\"user?id=whoishiring\" class=\"hnuser\">whoishiring</a> <span class=\"age\"><a href=\"item?id=22665398\">1 day ago</a></span> <span id=\"unv_22665398\"></span> | <a href=\"hide?id=22665398&amp;goto=news\">hide</a> | <a href=\"item?id=22665398\">605&nbsp;comments</a>              </td></tr>\n",
      "      <tr class=\"spacer\" style=\"height:5px\"></tr>\n",
      "                <tr class='athing' id='22673915'>\n",
      "      <td align=\"right\" valign=\"top\" class=\"title\"><span class=\"rank\">19.</span></td>      <td valign=\"top\" class=\"votelinks\"><center><a id='up_22673915' href='vote?id=22673915&amp;how=up&amp;goto=news'><div class='votearrow' title='upvote'></div></a></center></td><td class=\"title\"><a href=\"https://phys.org/news/2020-03-jets-bacteria-microscopic-cargo.html\" class=\"storylink\">Jets of bacteria carry microscopic cargo</a><span class=\"sitebit comhead\"> (<a href=\"from?site=phys.org\"><span class=\"sitestr\">phys.org</span></a>)</span></td></tr><tr><td colspan=\"2\"></td><td class=\"subtext\">\n",
      "        <span class=\"score\" id=\"score_22673915\">27 points</span> by <a href=\"user?id=vo2maxer\" class=\"hnuser\">vo2maxer</a> <span class=\"age\"><a href=\"item?id=22673915\">4 hours ago</a></span> <span id=\"unv_22673915\"></span> | <a href=\"hide?id=22673915&amp;goto=news\">hide</a> | <a href=\"item?id=22673915\">7&nbsp;comments</a>              </td></tr>\n",
      "      <tr class=\"spacer\" style=\"height:5px\"></tr>\n",
      "                <tr class='athing' id='22675078'>\n",
      "      <td align=\"right\" valign=\"top\" class=\"title\"><span class=\"rank\">20.</span></td>      <td valign=\"top\" class=\"votelinks\"><center><a id='up_22675078' href='vote?id=22675078&amp;how=up&amp;goto=news'><div class='votearrow' title='upvote'></div></a></center></td><td class=\"title\"><a href=\"https://git.sr.ht/~pierrenn/ripgrep\" class=\"storylink\" rel=\"nofollow\">Show HN: Harness the power of hyperscan on the CLI with this fork of ripgrep</a><span class=\"sitebit comhead\"> (<a href=\"from?site=sr.ht\"><span class=\"sitestr\">sr.ht</span></a>)</span></td></tr><tr><td colspan=\"2\"></td><td class=\"subtext\">\n",
      "        <span class=\"score\" id=\"score_22675078\">5 points</span> by <a href=\"user?id=dnpp123\" class=\"hnuser\">dnpp123</a> <span class=\"age\"><a href=\"item?id=22675078\">1 hour ago</a></span> <span id=\"unv_22675078\"></span> | <a href=\"hide?id=22675078&amp;goto=news\">hide</a> | <a href=\"item?id=22675078\">1&nbsp;comment</a>              </td></tr>\n",
      "      <tr class=\"spacer\" style=\"height:5px\"></tr>\n",
      "                <tr class='athing' id='22674751'>\n",
      "      <td align=\"right\" valign=\"top\" class=\"title\"><span class=\"rank\">21.</span></td>      <td valign=\"top\" class=\"votelinks\"><center><a id='up_22674751' href='vote?id=22674751&amp;how=up&amp;goto=news'><div class='votearrow' title='upvote'></div></a></center></td><td class=\"title\"><a href=\"https://info.acloud.guru/resources/brazeal-in-praise-of-s3-the-greatest-cloud-service-of-all-time\" class=\"storylink\">In praise of S3, the greatest cloud service of all time</a><span class=\"sitebit comhead\"> (<a href=\"from?site=acloud.guru\"><span class=\"sitestr\">acloud.guru</span></a>)</span></td></tr><tr><td colspan=\"2\"></td><td class=\"subtext\">\n",
      "        <span class=\"score\" id=\"score_22674751\">70 points</span> by <a href=\"user?id=forrestbrazeal\" class=\"hnuser\">forrestbrazeal</a> <span class=\"age\"><a href=\"item?id=22674751\">2 hours ago</a></span> <span id=\"unv_22674751\"></span> | <a href=\"hide?id=22674751&amp;goto=news\">hide</a> | <a href=\"item?id=22674751\">42&nbsp;comments</a>              </td></tr>\n",
      "      <tr class=\"spacer\" style=\"height:5px\"></tr>\n",
      "                <tr class='athing' id='22674005'>\n",
      "      <td align=\"right\" valign=\"top\" class=\"title\"><span class=\"rank\">22.</span></td>      <td valign=\"top\" class=\"votelinks\"><center><a id='up_22674005' href='vote?id=22674005&amp;how=up&amp;goto=news'><div class='votearrow' title='upvote'></div></a></center></td><td class=\"title\"><a href=\"http://www.erights.org/elib/capability/ode/index.html\" class=\"storylink\">Capability-Based Financial Instruments</a><span class=\"sitebit comhead\"> (<a href=\"from?site=erights.org\"><span class=\"sitestr\">erights.org</span></a>)</span></td></tr><tr><td colspan=\"2\"></td><td class=\"subtext\">\n",
      "        <span class=\"score\" id=\"score_22674005\">15 points</span> by <a href=\"user?id=bryanrasmussen\" class=\"hnuser\">bryanrasmussen</a> <span class=\"age\"><a href=\"item?id=22674005\">4 hours ago</a></span> <span id=\"unv_22674005\"></span> | <a href=\"hide?id=22674005&amp;goto=news\">hide</a> | <a href=\"item?id=22674005\">2&nbsp;comments</a>              </td></tr>\n",
      "      <tr class=\"spacer\" style=\"height:5px\"></tr>\n",
      "                <tr class='athing' id='22674255'>\n",
      "      <td align=\"right\" valign=\"top\" class=\"title\"><span class=\"rank\">23.</span></td>      <td valign=\"top\" class=\"votelinks\"><center><a id='up_22674255' href='vote?id=22674255&amp;how=up&amp;goto=news'><div class='votearrow' title='upvote'></div></a></center></td><td class=\"title\"><a href=\"https://internetdisruption.report/2020/03/23/internet-disruption-report-february-2020/\" class=\"storylink\">Internet Disruption Report: February 2020</a><span class=\"sitebit comhead\"> (<a href=\"from?site=internetdisruption.report\"><span class=\"sitestr\">internetdisruption.report</span></a>)</span></td></tr><tr><td colspan=\"2\"></td><td class=\"subtext\">\n",
      "        <span class=\"score\" id=\"score_22674255\">24 points</span> by <a href=\"user?id=dbelson\" class=\"hnuser\">dbelson</a> <span class=\"age\"><a href=\"item?id=22674255\">3 hours ago</a></span> <span id=\"unv_22674255\"></span> | <a href=\"hide?id=22674255&amp;goto=news\">hide</a> | <a href=\"item?id=22674255\">4&nbsp;comments</a>              </td></tr>\n",
      "      <tr class=\"spacer\" style=\"height:5px\"></tr>\n",
      "                <tr class='athing' id='22672176'>\n",
      "      <td align=\"right\" valign=\"top\" class=\"title\"><span class=\"rank\">24.</span></td>      <td valign=\"top\" class=\"votelinks\"><center><a id='up_22672176' href='vote?id=22672176&amp;how=up&amp;goto=news'><div class='votearrow' title='upvote'></div></a></center></td><td class=\"title\"><a href=\"https://www.youtube.com/watch?v=Z74OfpUbeac\" class=\"storylink\">How toilet paper is made (2014) [video]</a><span class=\"sitebit comhead\"> (<a href=\"from?site=youtube.com\"><span class=\"sitestr\">youtube.com</span></a>)</span></td></tr><tr><td colspan=\"2\"></td><td class=\"subtext\">\n",
      "        <span class=\"score\" id=\"score_22672176\">89 points</span> by <a href=\"user?id=jonbaer\" class=\"hnuser\">jonbaer</a> <span class=\"age\"><a href=\"item?id=22672176\">11 hours ago</a></span> <span id=\"unv_22672176\"></span> | <a href=\"hide?id=22672176&amp;goto=news\">hide</a> | <a href=\"item?id=22672176\">57&nbsp;comments</a>              </td></tr>\n",
      "      <tr class=\"spacer\" style=\"height:5px\"></tr>\n",
      "                <tr class='athing' id='22668614'>\n",
      "      <td align=\"right\" valign=\"top\" class=\"title\"><span class=\"rank\">25.</span></td>      <td valign=\"top\" class=\"votelinks\"><center><a id='up_22668614' href='vote?id=22668614&amp;how=up&amp;goto=news'><div class='votearrow' title='upvote'></div></a></center></td><td class=\"title\"><a href=\"https://arstechnica.com/information-technology/2020/03/attackers-exploit-windows-zeroday-that-can-execute-malicious-code/\" class=\"storylink\">Windows code-execution zeroday is under active exploit, Microsoft warns</a><span class=\"sitebit comhead\"> (<a href=\"from?site=arstechnica.com\"><span class=\"sitestr\">arstechnica.com</span></a>)</span></td></tr><tr><td colspan=\"2\"></td><td class=\"subtext\">\n",
      "        <span class=\"score\" id=\"score_22668614\">448 points</span> by <a href=\"user?id=vo2maxer\" class=\"hnuser\">vo2maxer</a> <span class=\"age\"><a href=\"item?id=22668614\">19 hours ago</a></span> <span id=\"unv_22668614\"></span> | <a href=\"hide?id=22668614&amp;goto=news\">hide</a> | <a href=\"item?id=22668614\">154&nbsp;comments</a>              </td></tr>\n",
      "      <tr class=\"spacer\" style=\"height:5px\"></tr>\n",
      "                <tr class='athing' id='22675247'>\n",
      "      <td align=\"right\" valign=\"top\" class=\"title\"><span class=\"rank\">26.</span></td>      <td valign=\"top\" class=\"votelinks\"><center><a id='up_22675247' href='vote?id=22675247&amp;how=up&amp;goto=news'><div class='votearrow' title='upvote'></div></a></center></td><td class=\"title\"><a href=\"https://blog.codecentric.de/en/2020/03/working-remotely-i-want-my-shared-whiteboard/\" class=\"storylink\">Working remotely: I want my shared whiteboard</a><span class=\"sitebit comhead\"> (<a href=\"from?site=codecentric.de\"><span class=\"sitestr\">codecentric.de</span></a>)</span></td></tr><tr><td colspan=\"2\"></td><td class=\"subtext\">\n",
      "        <span class=\"score\" id=\"score_22675247\">8 points</span> by <a href=\"user?id=dkupfer1\" class=\"hnuser\">dkupfer1</a> <span class=\"age\"><a href=\"item?id=22675247\">1 hour ago</a></span> <span id=\"unv_22675247\"></span> | <a href=\"hide?id=22675247&amp;goto=news\">hide</a> | <a href=\"item?id=22675247\">4&nbsp;comments</a>              </td></tr>\n",
      "      <tr class=\"spacer\" style=\"height:5px\"></tr>\n",
      "                <tr class='athing' id='22675416'>\n",
      "      <td align=\"right\" valign=\"top\" class=\"title\"><span class=\"rank\">27.</span></td>      <td valign=\"top\" class=\"votelinks\"><center><a id='up_22675416' href='vote?id=22675416&amp;how=up&amp;goto=news'><div class='votearrow' title='upvote'></div></a></center></td><td class=\"title\"><a href=\"item?id=22675416\" class=\"storylink\">Show HN: Self-Published Book – Health Data Privacy, HIPAA, and COVID-19</a></td></tr><tr><td colspan=\"2\"></td><td class=\"subtext\">\n",
      "        <span class=\"score\" id=\"score_22675416\">6 points</span> by <a href=\"user?id=anconia\" class=\"hnuser\">anconia</a> <span class=\"age\"><a href=\"item?id=22675416\">45 minutes ago</a></span> <span id=\"unv_22675416\"></span> | <a href=\"hide?id=22675416&amp;goto=news\">hide</a> | <a href=\"item?id=22675416\">discuss</a>              </td></tr>\n",
      "      <tr class=\"spacer\" style=\"height:5px\"></tr>\n",
      "                <tr class='athing' id='22672142'>\n",
      "      <td align=\"right\" valign=\"top\" class=\"title\"><span class=\"rank\">28.</span></td>      <td valign=\"top\" class=\"votelinks\"><center><a id='up_22672142' href='vote?id=22672142&amp;how=up&amp;goto=news'><div class='votearrow' title='upvote'></div></a></center></td><td class=\"title\"><a href=\"https://github.com/posce/posce\" class=\"storylink\">Show HN: Posce, a note-taking toolkit for your command-line</a><span class=\"sitebit comhead\"> (<a href=\"from?site=github.com\"><span class=\"sitestr\">github.com</span></a>)</span></td></tr><tr><td colspan=\"2\"></td><td class=\"subtext\">\n",
      "        <span class=\"score\" id=\"score_22672142\">40 points</span> by <a href=\"user?id=swidi\" class=\"hnuser\">swidi</a> <span class=\"age\"><a href=\"item?id=22672142\">11 hours ago</a></span> <span id=\"unv_22672142\"></span> | <a href=\"hide?id=22672142&amp;goto=news\">hide</a> | <a href=\"item?id=22672142\">23&nbsp;comments</a>              </td></tr>\n",
      "      <tr class=\"spacer\" style=\"height:5px\"></tr>\n",
      "                <tr class='athing' id='22669640'>\n",
      "      <td align=\"right\" valign=\"top\" class=\"title\"><span class=\"rank\">29.</span></td>      <td valign=\"top\" class=\"votelinks\"><center><a id='up_22669640' href='vote?id=22669640&amp;how=up&amp;goto=news'><div class='votearrow' title='upvote'></div></a></center></td><td class=\"title\"><a href=\"https://en.wikipedia.org/wiki/God_helmet\" class=\"storylink\">God Helmet</a><span class=\"sitebit comhead\"> (<a href=\"from?site=wikipedia.org\"><span class=\"sitestr\">wikipedia.org</span></a>)</span></td></tr><tr><td colspan=\"2\"></td><td class=\"subtext\">\n",
      "        <span class=\"score\" id=\"score_22669640\">85 points</span> by <a href=\"user?id=elierotenberg\" class=\"hnuser\">elierotenberg</a> <span class=\"age\"><a href=\"item?id=22669640\">12 hours ago</a></span> <span id=\"unv_22669640\"></span> | <a href=\"hide?id=22669640&amp;goto=news\">hide</a> | <a href=\"item?id=22669640\">35&nbsp;comments</a>              </td></tr>\n",
      "      <tr class=\"spacer\" style=\"height:5px\"></tr>\n",
      "                <tr class='athing' id='22644893'>\n",
      "      <td align=\"right\" valign=\"top\" class=\"title\"><span class=\"rank\">30.</span></td>      <td valign=\"top\" class=\"votelinks\"><center><a id='up_22644893' href='vote?id=22644893&amp;how=up&amp;goto=news'><div class='votearrow' title='upvote'></div></a></center></td><td class=\"title\"><a href=\"http://ballingt.com/error-detection/\" class=\"storylink\">Reading \"Error Detecting and Error Correcting Codes\" (2014)</a><span class=\"sitebit comhead\"> (<a href=\"from?site=ballingt.com\"><span class=\"sitestr\">ballingt.com</span></a>)</span></td></tr><tr><td colspan=\"2\"></td><td class=\"subtext\">\n",
      "        <span class=\"score\" id=\"score_22644893\">36 points</span> by <a href=\"user?id=luu\" class=\"hnuser\">luu</a> <span class=\"age\"><a href=\"item?id=22644893\">11 hours ago</a></span> <span id=\"unv_22644893\"></span> | <a href=\"hide?id=22644893&amp;goto=news\">hide</a> | <a href=\"item?id=22644893\">2&nbsp;comments</a>              </td></tr>\n",
      "      <tr class=\"spacer\" style=\"height:5px\"></tr>\n",
      "            <tr class=\"morespace\" style=\"height:10px\"></tr><tr><td colspan=\"2\"></td><td class=\"title\"><a href=\"news?p=2\" class=\"morelink\" rel=\"next\">More</a></td></tr>\n",
      "  </table>\n",
      "</td></tr>\n",
      "<tr><td><img src=\"s.gif\" height=\"10\" width=\"0\"><table width=\"100%\" cellspacing=\"0\" cellpadding=\"1\"><tr><td bgcolor=\"#ff6600\"></td></tr></table><br><center><a href=\"https://www.ycombinator.com/apply/\">\n",
      "        Applications are open for YC Summer 2020\n",
      "      </a></center><br><center><span class=\"yclinks\"><a href=\"newsguidelines.html\">Guidelines</a>\n",
      "        | <a href=\"newsfaq.html\">FAQ</a>\n",
      "        | <a href=\"mailto:hn@ycombinator.com\">Support</a>\n",
      "        | <a href=\"https://github.com/HackerNews/API\">API</a>\n",
      "        | <a href=\"security.html\">Security</a>\n",
      "        | <a href=\"lists\">Lists</a>\n",
      "        | <a href=\"bookmarklet.html\" rel=\"nofollow\">Bookmarklet</a>\n",
      "        | <a href=\"http://www.ycombinator.com/legal/\">Legal</a>\n",
      "        | <a href=\"http://www.ycombinator.com/apply/\">Apply to YC</a>\n",
      "        | <a href=\"mailto:hn@ycombinator.com\">Contact</a></span><br><br><form method=\"get\" action=\"//hn.algolia.com/\">Search:\n",
      "          <input type=\"text\" name=\"q\" value=\"\" size=\"17\" autocorrect=\"off\" spellcheck=\"false\" autocapitalize=\"off\" autocomplete=\"false\"></form>\n",
      "            </center></td></tr>\n",
      "      </table></center></body><script type='text/javascript' src='hn.js?aFHNeAZxwR2iyTLJ4yw2'></script></html>\n",
      "\n"
     ]
    }
   ],
   "source": [
    "import requests\n",
    "\n",
    "# Fetch a web page\n",
    "r = requests.get(\"https://news.ycombinator.com\")\n",
    "print(r.text)"
   ]
  },
  {
   "cell_type": "code",
   "execution_count": 5,
   "metadata": {},
   "outputs": [
    {
     "name": "stdout",
     "output_type": "stream",
     "text": [
      "\n",
      "        \n",
      "          \n",
      "        Hacker News\n",
      "        \n",
      "                  Hacker News\n",
      "              new | past | comments | ask | show | jobs | submit            \n",
      "                              login\n",
      "                          \n",
      "              \n",
      "\n",
      "              \n",
      "      1.      An Intrepid Mother and Son Who Unraveled a Geographic Hoax (atlasobscura.com)\n",
      "        154 points by bryanrasmussen 3 hours ago  | hide | 21&nbsp;comments              \n",
      "      \n",
      "                \n",
      "      2.      India announces nationwide lockdown to stop spread of coronavirus (axios.com)\n",
      "        130 points by JumpCrisscross 1 hour ago  | hide | 77&nbsp;comments              \n",
      "      \n",
      "                \n",
      "      3.      Scientists discover first animal that doesn't breathe oxygen (cbc.ca)\n",
      "        108 points by ksec 4 hours ago  | hide | 14&nbsp;comments              \n",
      "      \n",
      "                \n",
      "      4.      Jianruiying, the Special Forces of the Qing Dynasty: An Introduction (mandarinmansion.com)\n",
      "        21 points by vanderburgt 1 hour ago  | hide | discuss              \n",
      "      \n",
      "                \n",
      "      5.      Who’s Behind the ‘Web Listings’ Mail Scam? – KrebsOnSecurity (krebsonsecurity.com)\n",
      "        20 points by raybb 1 hour ago  | hide | 5&nbsp;comments              \n",
      "      \n",
      "                \n",
      "      6.      Show HN: Intro to Python and Programming for non-CS majors (github.com)\n",
      "        100 points by webartifex 5 hours ago  | hide | 33&nbsp;comments              \n",
      "      \n",
      "                \n",
      "      7.      Physics laws cannot always turn back time (astronomie.nl)\n",
      "        8 points by vo2maxer 39 minutes ago  | hide | 3&nbsp;comments              \n",
      "      \n",
      "                \n",
      "      8.      Setting up Git identities (micah.soy)\n",
      "        259 points by micahhenning 9 hours ago  | hide | 46&nbsp;comments              \n",
      "      \n",
      "                \n",
      "      9.      Olympics: Japan PM Shinzo Abe, IOC agree to delay Tokyo Olympics by one year (straitstimes.com)\n",
      "        98 points by doppp 2 hours ago  | hide | 56&nbsp;comments              \n",
      "      \n",
      "                \n",
      "      10.      Welcome to the Virosphere (nytimes.com)\n",
      "        78 points by vo2maxer 4 hours ago  | hide | 31&nbsp;comments              \n",
      "      \n",
      "                \n",
      "      11.      Please don't write your documentation in Markdown (buttondown.email)\n",
      "        68 points by randyzwitch 1 hour ago  | hide | 61&nbsp;comments              \n",
      "      \n",
      "                \n",
      "      12.      Using the Specification Pattern to Build a Data-Driven Rules Engine (jonblankenship.com)\n",
      "        48 points by jonblankenship 4 hours ago  | hide | 10&nbsp;comments              \n",
      "      \n",
      "                \n",
      "      13.      The next outbreak? We're not ready. Ted talk by Bill Gates (2015) (ted.com)\n",
      "        20 points by axelfontaine 34 minutes ago  | hide | 5&nbsp;comments              \n",
      "      \n",
      "                \n",
      "      14.      Jon Rubinstein on the development of the iPod [video] (youtube.com)\n",
      "        29 points by Austin_Conlon 4 hours ago  | hide | 29&nbsp;comments              \n",
      "      \n",
      "                \n",
      "      15.      Show HN: Excel-like table editing for Markdown (documentnode.io)\n",
      "        211 points by jakew 10 hours ago  | hide | 72&nbsp;comments              \n",
      "      \n",
      "                \n",
      "      16.      Compaq and Coronavirus (stratechery.com)\n",
      "        50 points by ingve 3 hours ago  | hide | 8&nbsp;comments              \n",
      "      \n",
      "                \n",
      "      17.      Concurrent Programming, with Examples (begriffs.com)\n",
      "        230 points by begriffs 11 hours ago  | hide | 54&nbsp;comments              \n",
      "      \n",
      "                \n",
      "      18.      Ask HN: Who is hiring right now?\n",
      "        877 points by whoishiring 1 day ago  | hide | 605&nbsp;comments              \n",
      "      \n",
      "                \n",
      "      19.      Jets of bacteria carry microscopic cargo (phys.org)\n",
      "        27 points by vo2maxer 4 hours ago  | hide | 7&nbsp;comments              \n",
      "      \n",
      "                \n",
      "      20.      Show HN: Harness the power of hyperscan on the CLI with this fork of ripgrep (sr.ht)\n",
      "        5 points by dnpp123 1 hour ago  | hide | 1&nbsp;comment              \n",
      "      \n",
      "                \n",
      "      21.      In praise of S3, the greatest cloud service of all time (acloud.guru)\n",
      "        70 points by forrestbrazeal 2 hours ago  | hide | 42&nbsp;comments              \n",
      "      \n",
      "                \n",
      "      22.      Capability-Based Financial Instruments (erights.org)\n",
      "        15 points by bryanrasmussen 4 hours ago  | hide | 2&nbsp;comments              \n",
      "      \n",
      "                \n",
      "      23.      Internet Disruption Report: February 2020 (internetdisruption.report)\n",
      "        24 points by dbelson 3 hours ago  | hide | 4&nbsp;comments              \n",
      "      \n",
      "                \n",
      "      24.      How toilet paper is made (2014) [video] (youtube.com)\n",
      "        89 points by jonbaer 11 hours ago  | hide | 57&nbsp;comments              \n",
      "      \n",
      "                \n",
      "      25.      Windows code-execution zeroday is under active exploit, Microsoft warns (arstechnica.com)\n",
      "        448 points by vo2maxer 19 hours ago  | hide | 154&nbsp;comments              \n",
      "      \n",
      "                \n",
      "      26.      Working remotely: I want my shared whiteboard (codecentric.de)\n",
      "        8 points by dkupfer1 1 hour ago  | hide | 4&nbsp;comments              \n",
      "      \n",
      "                \n",
      "      27.      Show HN: Self-Published Book – Health Data Privacy, HIPAA, and COVID-19\n",
      "        6 points by anconia 45 minutes ago  | hide | discuss              \n",
      "      \n",
      "                \n",
      "      28.      Show HN: Posce, a note-taking toolkit for your command-line (github.com)\n",
      "        40 points by swidi 11 hours ago  | hide | 23&nbsp;comments              \n",
      "      \n",
      "                \n",
      "      29.      God Helmet (wikipedia.org)\n",
      "        85 points by elierotenberg 12 hours ago  | hide | 35&nbsp;comments              \n",
      "      \n",
      "                \n",
      "      30.      Reading \"Error Detecting and Error Correcting Codes\" (2014) (ballingt.com)\n",
      "        36 points by luu 11 hours ago  | hide | 2&nbsp;comments              \n",
      "      \n",
      "            More\n",
      "  \n",
      "\n",
      "\n",
      "        Applications are open for YC Summer 2020\n",
      "      Guidelines\n",
      "        | FAQ\n",
      "        | Support\n",
      "        | API\n",
      "        | Security\n",
      "        | Lists\n",
      "        | Bookmarklet\n",
      "        | Legal\n",
      "        | Apply to YC\n",
      "        | ContactSearch:\n",
      "          \n",
      "            \n",
      "      \n",
      "\n"
     ]
    }
   ],
   "source": [
    "import re\n",
    "\n",
    "# Remove HTML tags using RegEx\n",
    "pattern = re.compile(r'<.*?>')  # tags look like <...>\n",
    "print(pattern.sub('', r.text))  # replace them with blank"
   ]
  },
  {
   "cell_type": "code",
   "execution_count": 6,
   "metadata": {},
   "outputs": [
    {
     "name": "stdout",
     "output_type": "stream",
     "text": [
      "\n",
      "        \n",
      "          \n",
      "        Hacker News\n",
      "        \n",
      "                  Hacker News\n",
      "              new | past | comments | ask | show | jobs | submit            \n",
      "                              login\n",
      "                          \n",
      "              \n",
      "\n",
      "              \n",
      "      1.      An Intrepid Mother and Son Who Unraveled a Geographic Hoax (atlasobscura.com)\n",
      "        154 points by bryanrasmussen 3 hours ago  | hide | 21 comments              \n",
      "      \n",
      "                \n",
      "      2.      India announces nationwide lockdown to stop spread of coronavirus (axios.com)\n",
      "        130 points by JumpCrisscross 1 hour ago  | hide | 77 comments              \n",
      "      \n",
      "                \n",
      "      3.      Scientists discover first animal that doesn't breathe oxygen (cbc.ca)\n",
      "        108 points by ksec 4 hours ago  | hide | 14 comments              \n",
      "      \n",
      "                \n",
      "      4.      Jianruiying, the Special Forces of the Qing Dynasty: An Introduction (mandarinmansion.com)\n",
      "        21 points by vanderburgt 1 hour ago  | hide | discuss              \n",
      "      \n",
      "                \n",
      "      5.      Who’s Behind the ‘Web Listings’ Mail Scam? – KrebsOnSecurity (krebsonsecurity.com)\n",
      "        20 points by raybb 1 hour ago  | hide | 5 comments              \n",
      "      \n",
      "                \n",
      "      6.      Show HN: Intro to Python and Programming for non-CS majors (github.com)\n",
      "        100 points by webartifex 5 hours ago  | hide | 33 comments              \n",
      "      \n",
      "                \n",
      "      7.      Physics laws cannot always turn back time (astronomie.nl)\n",
      "        8 points by vo2maxer 39 minutes ago  | hide | 3 comments              \n",
      "      \n",
      "                \n",
      "      8.      Setting up Git identities (micah.soy)\n",
      "        259 points by micahhenning 9 hours ago  | hide | 46 comments              \n",
      "      \n",
      "                \n",
      "      9.      Olympics: Japan PM Shinzo Abe, IOC agree to delay Tokyo Olympics by one year (straitstimes.com)\n",
      "        98 points by doppp 2 hours ago  | hide | 56 comments              \n",
      "      \n",
      "                \n",
      "      10.      Welcome to the Virosphere (nytimes.com)\n",
      "        78 points by vo2maxer 4 hours ago  | hide | 31 comments              \n",
      "      \n",
      "                \n",
      "      11.      Please don't write your documentation in Markdown (buttondown.email)\n",
      "        68 points by randyzwitch 1 hour ago  | hide | 61 comments              \n",
      "      \n",
      "                \n",
      "      12.      Using the Specification Pattern to Build a Data-Driven Rules Engine (jonblankenship.com)\n",
      "        48 points by jonblankenship 4 hours ago  | hide | 10 comments              \n",
      "      \n",
      "                \n",
      "      13.      The next outbreak? We're not ready. Ted talk by Bill Gates (2015) (ted.com)\n",
      "        20 points by axelfontaine 34 minutes ago  | hide | 5 comments              \n",
      "      \n",
      "                \n",
      "      14.      Jon Rubinstein on the development of the iPod [video] (youtube.com)\n",
      "        29 points by Austin_Conlon 4 hours ago  | hide | 29 comments              \n",
      "      \n",
      "                \n",
      "      15.      Show HN: Excel-like table editing for Markdown (documentnode.io)\n",
      "        211 points by jakew 10 hours ago  | hide | 72 comments              \n",
      "      \n",
      "                \n",
      "      16.      Compaq and Coronavirus (stratechery.com)\n",
      "        50 points by ingve 3 hours ago  | hide | 8 comments              \n",
      "      \n",
      "                \n",
      "      17.      Concurrent Programming, with Examples (begriffs.com)\n",
      "        230 points by begriffs 11 hours ago  | hide | 54 comments              \n",
      "      \n",
      "                \n",
      "      18.      Ask HN: Who is hiring right now?\n",
      "        877 points by whoishiring 1 day ago  | hide | 605 comments              \n",
      "      \n",
      "                \n",
      "      19.      Jets of bacteria carry microscopic cargo (phys.org)\n",
      "        27 points by vo2maxer 4 hours ago  | hide | 7 comments              \n",
      "      \n",
      "                \n",
      "      20.      Show HN: Harness the power of hyperscan on the CLI with this fork of ripgrep (sr.ht)\n",
      "        5 points by dnpp123 1 hour ago  | hide | 1 comment              \n",
      "      \n",
      "                \n",
      "      21.      In praise of S3, the greatest cloud service of all time (acloud.guru)\n",
      "        70 points by forrestbrazeal 2 hours ago  | hide | 42 comments              \n",
      "      \n",
      "                \n",
      "      22.      Capability-Based Financial Instruments (erights.org)\n",
      "        15 points by bryanrasmussen 4 hours ago  | hide | 2 comments              \n",
      "      \n",
      "                \n",
      "      23.      Internet Disruption Report: February 2020 (internetdisruption.report)\n",
      "        24 points by dbelson 3 hours ago  | hide | 4 comments              \n",
      "      \n",
      "                \n",
      "      24.      How toilet paper is made (2014) [video] (youtube.com)\n",
      "        89 points by jonbaer 11 hours ago  | hide | 57 comments              \n",
      "      \n",
      "                \n",
      "      25.      Windows code-execution zeroday is under active exploit, Microsoft warns (arstechnica.com)\n",
      "        448 points by vo2maxer 19 hours ago  | hide | 154 comments              \n",
      "      \n",
      "                \n",
      "      26.      Working remotely: I want my shared whiteboard (codecentric.de)\n",
      "        8 points by dkupfer1 1 hour ago  | hide | 4 comments              \n",
      "      \n",
      "                \n",
      "      27.      Show HN: Self-Published Book – Health Data Privacy, HIPAA, and COVID-19\n",
      "        6 points by anconia 45 minutes ago  | hide | discuss              \n",
      "      \n",
      "                \n",
      "      28.      Show HN: Posce, a note-taking toolkit for your command-line (github.com)\n",
      "        40 points by swidi 11 hours ago  | hide | 23 comments              \n",
      "      \n",
      "                \n",
      "      29.      God Helmet (wikipedia.org)\n",
      "        85 points by elierotenberg 12 hours ago  | hide | 35 comments              \n",
      "      \n",
      "                \n",
      "      30.      Reading \"Error Detecting and Error Correcting Codes\" (2014) (ballingt.com)\n",
      "        36 points by luu 11 hours ago  | hide | 2 comments              \n",
      "      \n",
      "            More\n",
      "  \n",
      "\n",
      "\n",
      "        Applications are open for YC Summer 2020\n",
      "      Guidelines\n",
      "        | FAQ\n",
      "        | Support\n",
      "        | API\n",
      "        | Security\n",
      "        | Lists\n",
      "        | Bookmarklet\n",
      "        | Legal\n",
      "        | Apply to YC\n",
      "        | ContactSearch:\n",
      "          \n",
      "            \n",
      "      \n",
      "\n"
     ]
    }
   ],
   "source": [
    "from bs4 import BeautifulSoup\n",
    "\n",
    "# Remove HTML tags using Beautiful Soup library\n",
    "soup = BeautifulSoup(r.text, \"html5lib\")\n",
    "print(soup.get_text())"
   ]
  },
  {
   "cell_type": "code",
   "execution_count": 7,
   "metadata": {
    "scrolled": true
   },
   "outputs": [
    {
     "data": {
      "text/plain": [
       "<tr class=\"athing\" id=\"22674342\">\n",
       "      <td align=\"right\" class=\"title\" valign=\"top\"><span class=\"rank\">1.</span></td>      <td class=\"votelinks\" valign=\"top\"><center><a href=\"vote?id=22674342&amp;how=up&amp;goto=news\" id=\"up_22674342\"><div class=\"votearrow\" title=\"upvote\"></div></a></center></td><td class=\"title\"><a class=\"storylink\" href=\"https://www.atlasobscura.com/articles/moose-boulder-debunked\">An Intrepid Mother and Son Who Unraveled a Geographic Hoax</a><span class=\"sitebit comhead\"> (<a href=\"from?site=atlasobscura.com\"><span class=\"sitestr\">atlasobscura.com</span></a>)</span></td></tr>"
      ]
     },
     "execution_count": 7,
     "metadata": {},
     "output_type": "execute_result"
    }
   ],
   "source": [
    "# Find all articles\n",
    "summaries = soup.find_all(\"tr\", class_=\"athing\")\n",
    "summaries[0]"
   ]
  },
  {
   "cell_type": "code",
   "execution_count": 8,
   "metadata": {},
   "outputs": [
    {
     "data": {
      "text/plain": [
       "'An Intrepid Mother and Son Who Unraveled a Geographic Hoax'"
      ]
     },
     "execution_count": 8,
     "metadata": {},
     "output_type": "execute_result"
    }
   ],
   "source": [
    "# Extract title\n",
    "summaries[0].find(\"a\", class_=\"storylink\").get_text().strip()"
   ]
  },
  {
   "cell_type": "code",
   "execution_count": 9,
   "metadata": {},
   "outputs": [
    {
     "name": "stdout",
     "output_type": "stream",
     "text": [
      "30 Article summaries found. Sample:\n",
      "An Intrepid Mother and Son Who Unraveled a Geographic Hoax\n"
     ]
    }
   ],
   "source": [
    "# Find all articles, extract titles\n",
    "articles = []\n",
    "summaries = soup.find_all(\"tr\", class_=\"athing\")\n",
    "for summary in summaries:\n",
    "    title = summary.find(\"a\", class_=\"storylink\").get_text().strip()\n",
    "    articles.append((title))\n",
    "\n",
    "print(len(articles), \"Article summaries found. Sample:\")\n",
    "print(articles[0])"
   ]
  },
  {
   "cell_type": "markdown",
   "metadata": {
    "collapsed": true
   },
   "source": [
    "## Normalization"
   ]
  },
  {
   "cell_type": "markdown",
   "metadata": {},
   "source": [
    "### Case Normalization"
   ]
  },
  {
   "cell_type": "code",
   "execution_count": 10,
   "metadata": {},
   "outputs": [
    {
     "name": "stdout",
     "output_type": "stream",
     "text": [
      "The first time you see The Second Renaissance it may look boring. Look at it at least twice and definitely watch part 2. It will change your view of the matrix. Are the human people the ones who started the war ? Is AI a bad thing ?\n"
     ]
    }
   ],
   "source": [
    "# Sample text\n",
    "text = \"The first time you see The Second Renaissance it may look boring. Look at it at least twice and definitely watch part 2. It will change your view of the matrix. Are the human people the ones who started the war ? Is AI a bad thing ?\"\n",
    "print(text)"
   ]
  },
  {
   "cell_type": "code",
   "execution_count": 11,
   "metadata": {},
   "outputs": [
    {
     "name": "stdout",
     "output_type": "stream",
     "text": [
      "the first time you see the second renaissance it may look boring. look at it at least twice and definitely watch part 2. it will change your view of the matrix. are the human people the ones who started the war ? is ai a bad thing ?\n"
     ]
    }
   ],
   "source": [
    "# Convert to lowercase\n",
    "text = text.lower() \n",
    "print(text)"
   ]
  },
  {
   "cell_type": "markdown",
   "metadata": {},
   "source": [
    "### Punctuation Removal"
   ]
  },
  {
   "cell_type": "code",
   "execution_count": 12,
   "metadata": {},
   "outputs": [
    {
     "name": "stdout",
     "output_type": "stream",
     "text": [
      "the first time you see the second renaissance it may look boring  look at it at least twice and definitely watch part 2  it will change your view of the matrix  are the human people the ones who started the war   is ai a bad thing  \n"
     ]
    }
   ],
   "source": [
    "import re\n",
    "\n",
    "# Remove punctuation characters\n",
    "text = re.sub(r\"[^a-zA-Z0-9]\", \" \", text) \n",
    "print(text)"
   ]
  },
  {
   "cell_type": "markdown",
   "metadata": {},
   "source": [
    "## Tokenization"
   ]
  },
  {
   "cell_type": "code",
   "execution_count": 13,
   "metadata": {},
   "outputs": [
    {
     "name": "stdout",
     "output_type": "stream",
     "text": [
      "['the', 'first', 'time', 'you', 'see', 'the', 'second', 'renaissance', 'it', 'may', 'look', 'boring', 'look', 'at', 'it', 'at', 'least', 'twice', 'and', 'definitely', 'watch', 'part', '2', 'it', 'will', 'change', 'your', 'view', 'of', 'the', 'matrix', 'are', 'the', 'human', 'people', 'the', 'ones', 'who', 'started', 'the', 'war', 'is', 'ai', 'a', 'bad', 'thing']\n"
     ]
    }
   ],
   "source": [
    "# Split text into tokens (words)\n",
    "words = text.split()\n",
    "print(words)"
   ]
  },
  {
   "cell_type": "markdown",
   "metadata": {},
   "source": [
    "### NLTK: Natural Language ToolKit"
   ]
  },
  {
   "cell_type": "code",
   "execution_count": 14,
   "metadata": {},
   "outputs": [],
   "source": [
    "import os\n",
    "import nltk\n",
    "nltk.data.path.append(os.path.join(os.getcwd(), \"nltk_data\"))"
   ]
  },
  {
   "cell_type": "code",
   "execution_count": 15,
   "metadata": {},
   "outputs": [
    {
     "name": "stdout",
     "output_type": "stream",
     "text": [
      "Dr. Smith graduated from the University of Washington. He later started an analytics firm called Lux, which catered to enterprise customers.\n"
     ]
    }
   ],
   "source": [
    "# Another sample text\n",
    "text = \"Dr. Smith graduated from the University of Washington. He later started an analytics firm called Lux, which catered to enterprise customers.\"\n",
    "print(text)"
   ]
  },
  {
   "cell_type": "code",
   "execution_count": 16,
   "metadata": {},
   "outputs": [
    {
     "name": "stdout",
     "output_type": "stream",
     "text": [
      "['Dr.', 'Smith', 'graduated', 'from', 'the', 'University', 'of', 'Washington', '.', 'He', 'later', 'started', 'an', 'analytics', 'firm', 'called', 'Lux', ',', 'which', 'catered', 'to', 'enterprise', 'customers', '.']\n"
     ]
    }
   ],
   "source": [
    "from nltk.tokenize import word_tokenize\n",
    "\n",
    "# Split text into words using NLTK\n",
    "words = word_tokenize(text)\n",
    "print(words)"
   ]
  },
  {
   "cell_type": "code",
   "execution_count": 17,
   "metadata": {},
   "outputs": [
    {
     "name": "stdout",
     "output_type": "stream",
     "text": [
      "['Dr. Smith graduated from the University of Washington.', 'He later started an analytics firm called Lux, which catered to enterprise customers.']\n"
     ]
    }
   ],
   "source": [
    "from nltk.tokenize import sent_tokenize\n",
    "\n",
    "# Split text into sentences\n",
    "sentences = sent_tokenize(text)\n",
    "print(sentences)"
   ]
  },
  {
   "cell_type": "code",
   "execution_count": 18,
   "metadata": {},
   "outputs": [
    {
     "name": "stdout",
     "output_type": "stream",
     "text": [
      "['i', 'me', 'my', 'myself', 'we', 'our', 'ours', 'ourselves', 'you', \"you're\", \"you've\", \"you'll\", \"you'd\", 'your', 'yours', 'yourself', 'yourselves', 'he', 'him', 'his', 'himself', 'she', \"she's\", 'her', 'hers', 'herself', 'it', \"it's\", 'its', 'itself', 'they', 'them', 'their', 'theirs', 'themselves', 'what', 'which', 'who', 'whom', 'this', 'that', \"that'll\", 'these', 'those', 'am', 'is', 'are', 'was', 'were', 'be', 'been', 'being', 'have', 'has', 'had', 'having', 'do', 'does', 'did', 'doing', 'a', 'an', 'the', 'and', 'but', 'if', 'or', 'because', 'as', 'until', 'while', 'of', 'at', 'by', 'for', 'with', 'about', 'against', 'between', 'into', 'through', 'during', 'before', 'after', 'above', 'below', 'to', 'from', 'up', 'down', 'in', 'out', 'on', 'off', 'over', 'under', 'again', 'further', 'then', 'once', 'here', 'there', 'when', 'where', 'why', 'how', 'all', 'any', 'both', 'each', 'few', 'more', 'most', 'other', 'some', 'such', 'no', 'nor', 'not', 'only', 'own', 'same', 'so', 'than', 'too', 'very', 's', 't', 'can', 'will', 'just', 'don', \"don't\", 'should', \"should've\", 'now', 'd', 'll', 'm', 'o', 're', 've', 'y', 'ain', 'aren', \"aren't\", 'couldn', \"couldn't\", 'didn', \"didn't\", 'doesn', \"doesn't\", 'hadn', \"hadn't\", 'hasn', \"hasn't\", 'haven', \"haven't\", 'isn', \"isn't\", 'ma', 'mightn', \"mightn't\", 'mustn', \"mustn't\", 'needn', \"needn't\", 'shan', \"shan't\", 'shouldn', \"shouldn't\", 'wasn', \"wasn't\", 'weren', \"weren't\", 'won', \"won't\", 'wouldn', \"wouldn't\"]\n"
     ]
    }
   ],
   "source": [
    "# List stop words\n",
    "from nltk.corpus import stopwords\n",
    "print(stopwords.words(\"english\"))"
   ]
  },
  {
   "cell_type": "code",
   "execution_count": 19,
   "metadata": {},
   "outputs": [
    {
     "name": "stdout",
     "output_type": "stream",
     "text": [
      "['the', 'first', 'time', 'you', 'see', 'the', 'second', 'renaissance', 'it', 'may', 'look', 'boring', 'look', 'at', 'it', 'at', 'least', 'twice', 'and', 'definitely', 'watch', 'part', '2', 'it', 'will', 'change', 'your', 'view', 'of', 'the', 'matrix', 'are', 'the', 'human', 'people', 'the', 'ones', 'who', 'started', 'the', 'war', 'is', 'ai', 'a', 'bad', 'thing']\n"
     ]
    }
   ],
   "source": [
    "# Reset text\n",
    "text = \"The first time you see The Second Renaissance it may look boring. Look at it at least twice and definitely watch part 2. It will change your view of the matrix. Are the human people the ones who started the war ? Is AI a bad thing ?\"\n",
    "\n",
    "# Normalize it\n",
    "text = re.sub(r\"[^a-zA-Z0-9]\", \" \", text.lower())\n",
    "\n",
    "# Tokenize it\n",
    "words = text.split()\n",
    "print(words)"
   ]
  },
  {
   "cell_type": "code",
   "execution_count": 20,
   "metadata": {},
   "outputs": [
    {
     "name": "stdout",
     "output_type": "stream",
     "text": [
      "['first', 'time', 'see', 'second', 'renaissance', 'may', 'look', 'boring', 'look', 'least', 'twice', 'definitely', 'watch', 'part', '2', 'change', 'view', 'matrix', 'human', 'people', 'ones', 'started', 'war', 'ai', 'bad', 'thing']\n"
     ]
    }
   ],
   "source": [
    "# Remove stop words\n",
    "words = [w for w in words if w not in stopwords.words(\"english\")]\n",
    "print(words)"
   ]
  },
  {
   "cell_type": "markdown",
   "metadata": {},
   "source": [
    "### Sentence Parsing"
   ]
  },
  {
   "cell_type": "code",
   "execution_count": 21,
   "metadata": {},
   "outputs": [
    {
     "name": "stdout",
     "output_type": "stream",
     "text": [
      "(S\n",
      "  (NP I)\n",
      "  (VP\n",
      "    (VP (V shot) (NP (Det an) (N elephant)))\n",
      "    (PP (P in) (NP (Det my) (N pajamas)))))\n",
      "(S\n",
      "  (NP I)\n",
      "  (VP\n",
      "    (V shot)\n",
      "    (NP (Det an) (N elephant) (PP (P in) (NP (Det my) (N pajamas))))))\n"
     ]
    }
   ],
   "source": [
    "import nltk\n",
    "\n",
    "# Define a custom grammar\n",
    "my_grammar = nltk.CFG.fromstring(\"\"\"\n",
    "S -> NP VP\n",
    "PP -> P NP\n",
    "NP -> Det N | Det N PP | 'I'\n",
    "VP -> V NP | VP PP\n",
    "Det -> 'an' | 'my'\n",
    "N -> 'elephant' | 'pajamas'\n",
    "V -> 'shot'\n",
    "P -> 'in'\n",
    "\"\"\")\n",
    "parser = nltk.ChartParser(my_grammar)\n",
    "\n",
    "# Parse a sentence\n",
    "sentence = word_tokenize(\"I shot an elephant in my pajamas\")\n",
    "for tree in parser.parse(sentence):\n",
    "    print(tree)"
   ]
  },
  {
   "cell_type": "markdown",
   "metadata": {},
   "source": [
    "## Stemming & Lemmatization\n",
    "\n",
    "### Stemming"
   ]
  },
  {
   "cell_type": "code",
   "execution_count": 22,
   "metadata": {},
   "outputs": [
    {
     "name": "stdout",
     "output_type": "stream",
     "text": [
      "['first', 'time', 'see', 'second', 'renaiss', 'may', 'look', 'bore', 'look', 'least', 'twice', 'definit', 'watch', 'part', '2', 'chang', 'view', 'matrix', 'human', 'peopl', 'one', 'start', 'war', 'ai', 'bad', 'thing']\n"
     ]
    }
   ],
   "source": [
    "from nltk.stem.porter import PorterStemmer\n",
    "\n",
    "# Reduce words to their stems\n",
    "stemmed = [PorterStemmer().stem(w) for w in words]\n",
    "print(stemmed)"
   ]
  },
  {
   "cell_type": "markdown",
   "metadata": {},
   "source": [
    "### Lemmatization"
   ]
  },
  {
   "cell_type": "code",
   "execution_count": 23,
   "metadata": {},
   "outputs": [
    {
     "name": "stdout",
     "output_type": "stream",
     "text": [
      "['first', 'time', 'see', 'second', 'renaissance', 'may', 'look', 'boring', 'look', 'least', 'twice', 'definitely', 'watch', 'part', '2', 'change', 'view', 'matrix', 'human', 'people', 'one', 'started', 'war', 'ai', 'bad', 'thing']\n"
     ]
    }
   ],
   "source": [
    "from nltk.stem.wordnet import WordNetLemmatizer\n",
    "\n",
    "# Reduce words to their root form\n",
    "lemmed = [WordNetLemmatizer().lemmatize(w) for w in words]\n",
    "print(lemmed)"
   ]
  },
  {
   "cell_type": "code",
   "execution_count": 24,
   "metadata": {},
   "outputs": [
    {
     "name": "stdout",
     "output_type": "stream",
     "text": [
      "['first', 'time', 'see', 'second', 'renaissance', 'may', 'look', 'bore', 'look', 'least', 'twice', 'definitely', 'watch', 'part', '2', 'change', 'view', 'matrix', 'human', 'people', 'one', 'start', 'war', 'ai', 'bad', 'thing']\n"
     ]
    }
   ],
   "source": [
    "# Lemmatize verbs by specifying pos\n",
    "lemmed = [WordNetLemmatizer().lemmatize(w, pos='v') for w in lemmed]\n",
    "print(lemmed)"
   ]
  },
  {
   "cell_type": "code",
   "execution_count": null,
   "metadata": {},
   "outputs": [],
   "source": []
  }
 ],
 "metadata": {
  "kernelspec": {
   "display_name": "Python 3",
   "language": "python",
   "name": "python3"
  },
  "language_info": {
   "codemirror_mode": {
    "name": "ipython",
    "version": 3
   },
   "file_extension": ".py",
   "mimetype": "text/x-python",
   "name": "python",
   "nbconvert_exporter": "python",
   "pygments_lexer": "ipython3",
   "version": "3.8.11"
  }
 },
 "nbformat": 4,
 "nbformat_minor": 2
}
